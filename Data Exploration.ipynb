{
 "cells": [
  {
   "cell_type": "markdown",
   "metadata": {},
   "source": [
    "# Context Presentation"
   ]
  },
  {
   "cell_type": "markdown",
   "metadata": {},
   "source": [
    "  The problem consists in classifying all the blocks of the page layout of a document that has been detected by a segmentation process. This is an essential step in document analysis in order to separate text from graphic areas. Indeed, the five classes are: text (1), horizontal line (2), picture (3), vertical line (4) and graphic (5).\n",
    "  \n",
    "  \n",
    "   The 5473 examples comes from 54 distinct documents. \n",
    "   Each observation concerns one block. \n",
    "   All attributes are numeric."
   ]
  },
  {
   "cell_type": "markdown",
   "metadata": {},
   "source": [
    "# Data Exploration"
   ]
  },
  {
   "cell_type": "markdown",
   "metadata": {},
   "source": [
    "### Dataset preview"
   ]
  },
  {
   "cell_type": "code",
   "execution_count": 1,
   "metadata": {},
   "outputs": [],
   "source": [
    "import pandas as pd\n",
    "import seaborn as sns\n",
    "import matplotlib.pyplot as plt\n",
    "import numpy as np"
   ]
  },
  {
   "cell_type": "code",
   "execution_count": 2,
   "metadata": {},
   "outputs": [
    {
     "data": {
      "text/html": [
       "<div>\n",
       "<style scoped>\n",
       "    .dataframe tbody tr th:only-of-type {\n",
       "        vertical-align: middle;\n",
       "    }\n",
       "\n",
       "    .dataframe tbody tr th {\n",
       "        vertical-align: top;\n",
       "    }\n",
       "\n",
       "    .dataframe thead th {\n",
       "        text-align: right;\n",
       "    }\n",
       "</style>\n",
       "<table border=\"1\" class=\"dataframe\">\n",
       "  <thead>\n",
       "    <tr style=\"text-align: right;\">\n",
       "      <th></th>\n",
       "      <th>height</th>\n",
       "      <th>lenght</th>\n",
       "      <th>area</th>\n",
       "      <th>eccen</th>\n",
       "      <th>p_black</th>\n",
       "      <th>p_and</th>\n",
       "      <th>mean_tr</th>\n",
       "      <th>blackpix</th>\n",
       "      <th>blackand</th>\n",
       "      <th>wb_trans</th>\n",
       "      <th>classes</th>\n",
       "    </tr>\n",
       "  </thead>\n",
       "  <tbody>\n",
       "    <tr>\n",
       "      <th>0</th>\n",
       "      <td>5</td>\n",
       "      <td>7</td>\n",
       "      <td>35</td>\n",
       "      <td>1.400</td>\n",
       "      <td>0.400</td>\n",
       "      <td>0.657</td>\n",
       "      <td>2.33</td>\n",
       "      <td>14</td>\n",
       "      <td>23</td>\n",
       "      <td>6</td>\n",
       "      <td>1</td>\n",
       "    </tr>\n",
       "    <tr>\n",
       "      <th>1</th>\n",
       "      <td>6</td>\n",
       "      <td>7</td>\n",
       "      <td>42</td>\n",
       "      <td>1.167</td>\n",
       "      <td>0.429</td>\n",
       "      <td>0.881</td>\n",
       "      <td>3.60</td>\n",
       "      <td>18</td>\n",
       "      <td>37</td>\n",
       "      <td>5</td>\n",
       "      <td>1</td>\n",
       "    </tr>\n",
       "    <tr>\n",
       "      <th>2</th>\n",
       "      <td>6</td>\n",
       "      <td>18</td>\n",
       "      <td>108</td>\n",
       "      <td>3.000</td>\n",
       "      <td>0.287</td>\n",
       "      <td>0.741</td>\n",
       "      <td>4.43</td>\n",
       "      <td>31</td>\n",
       "      <td>80</td>\n",
       "      <td>7</td>\n",
       "      <td>1</td>\n",
       "    </tr>\n",
       "    <tr>\n",
       "      <th>3</th>\n",
       "      <td>5</td>\n",
       "      <td>7</td>\n",
       "      <td>35</td>\n",
       "      <td>1.400</td>\n",
       "      <td>0.371</td>\n",
       "      <td>0.743</td>\n",
       "      <td>4.33</td>\n",
       "      <td>13</td>\n",
       "      <td>26</td>\n",
       "      <td>3</td>\n",
       "      <td>1</td>\n",
       "    </tr>\n",
       "    <tr>\n",
       "      <th>4</th>\n",
       "      <td>6</td>\n",
       "      <td>3</td>\n",
       "      <td>18</td>\n",
       "      <td>0.500</td>\n",
       "      <td>0.500</td>\n",
       "      <td>0.944</td>\n",
       "      <td>2.25</td>\n",
       "      <td>9</td>\n",
       "      <td>17</td>\n",
       "      <td>4</td>\n",
       "      <td>1</td>\n",
       "    </tr>\n",
       "  </tbody>\n",
       "</table>\n",
       "</div>"
      ],
      "text/plain": [
       "   height  lenght  area  eccen  p_black  p_and  mean_tr  blackpix  blackand  \\\n",
       "0       5       7    35  1.400    0.400  0.657     2.33        14        23   \n",
       "1       6       7    42  1.167    0.429  0.881     3.60        18        37   \n",
       "2       6      18   108  3.000    0.287  0.741     4.43        31        80   \n",
       "3       5       7    35  1.400    0.371  0.743     4.33        13        26   \n",
       "4       6       3    18  0.500    0.500  0.944     2.25         9        17   \n",
       "\n",
       "   wb_trans  classes  \n",
       "0         6        1  \n",
       "1         5        1  \n",
       "2         7        1  \n",
       "3         3        1  \n",
       "4         4        1  "
      ]
     },
     "execution_count": 2,
     "metadata": {},
     "output_type": "execute_result"
    }
   ],
   "source": [
    "col=[\"height\",\"lenght\",\"area\",\"eccen\",\"p_black\",\"p_and\",\"mean_tr\",\"blackpix\",\"blackand\",\"wb_trans\",\"classes\"]\n",
    "df=pd.read_csv(\"page-blocks.csv\", sep=';',header=None, names=col, index_col=False)\n",
    "df[:5]"
   ]
  },
  {
   "cell_type": "code",
   "execution_count": 3,
   "metadata": {},
   "outputs": [
    {
     "data": {
      "text/html": [
       "<div>\n",
       "<style scoped>\n",
       "    .dataframe tbody tr th:only-of-type {\n",
       "        vertical-align: middle;\n",
       "    }\n",
       "\n",
       "    .dataframe tbody tr th {\n",
       "        vertical-align: top;\n",
       "    }\n",
       "\n",
       "    .dataframe thead th {\n",
       "        text-align: right;\n",
       "    }\n",
       "</style>\n",
       "<table border=\"1\" class=\"dataframe\">\n",
       "  <thead>\n",
       "    <tr style=\"text-align: right;\">\n",
       "      <th></th>\n",
       "      <th>height</th>\n",
       "      <th>lenght</th>\n",
       "      <th>area</th>\n",
       "      <th>eccen</th>\n",
       "      <th>p_black</th>\n",
       "      <th>p_and</th>\n",
       "      <th>mean_tr</th>\n",
       "      <th>blackpix</th>\n",
       "      <th>blackand</th>\n",
       "      <th>wb_trans</th>\n",
       "      <th>classes</th>\n",
       "    </tr>\n",
       "  </thead>\n",
       "  <tbody>\n",
       "    <tr>\n",
       "      <th>5468</th>\n",
       "      <td>4</td>\n",
       "      <td>524</td>\n",
       "      <td>2096</td>\n",
       "      <td>131.000</td>\n",
       "      <td>0.542</td>\n",
       "      <td>0.603</td>\n",
       "      <td>40.57</td>\n",
       "      <td>1136</td>\n",
       "      <td>1264</td>\n",
       "      <td>28</td>\n",
       "      <td>2</td>\n",
       "    </tr>\n",
       "    <tr>\n",
       "      <th>5469</th>\n",
       "      <td>7</td>\n",
       "      <td>4</td>\n",
       "      <td>28</td>\n",
       "      <td>0.571</td>\n",
       "      <td>0.714</td>\n",
       "      <td>0.929</td>\n",
       "      <td>10.00</td>\n",
       "      <td>20</td>\n",
       "      <td>26</td>\n",
       "      <td>2</td>\n",
       "      <td>1</td>\n",
       "    </tr>\n",
       "    <tr>\n",
       "      <th>5470</th>\n",
       "      <td>6</td>\n",
       "      <td>95</td>\n",
       "      <td>570</td>\n",
       "      <td>15.833</td>\n",
       "      <td>0.300</td>\n",
       "      <td>0.911</td>\n",
       "      <td>1.64</td>\n",
       "      <td>171</td>\n",
       "      <td>519</td>\n",
       "      <td>104</td>\n",
       "      <td>1</td>\n",
       "    </tr>\n",
       "    <tr>\n",
       "      <th>5471</th>\n",
       "      <td>7</td>\n",
       "      <td>41</td>\n",
       "      <td>287</td>\n",
       "      <td>5.857</td>\n",
       "      <td>0.213</td>\n",
       "      <td>0.801</td>\n",
       "      <td>1.36</td>\n",
       "      <td>61</td>\n",
       "      <td>230</td>\n",
       "      <td>45</td>\n",
       "      <td>1</td>\n",
       "    </tr>\n",
       "    <tr>\n",
       "      <th>5472</th>\n",
       "      <td>8</td>\n",
       "      <td>1</td>\n",
       "      <td>8</td>\n",
       "      <td>0.125</td>\n",
       "      <td>1.000</td>\n",
       "      <td>1.000</td>\n",
       "      <td>8.00</td>\n",
       "      <td>8</td>\n",
       "      <td>8</td>\n",
       "      <td>1</td>\n",
       "      <td>4</td>\n",
       "    </tr>\n",
       "  </tbody>\n",
       "</table>\n",
       "</div>"
      ],
      "text/plain": [
       "      height  lenght  area    eccen  p_black  p_and  mean_tr  blackpix  \\\n",
       "5468       4     524  2096  131.000    0.542  0.603    40.57      1136   \n",
       "5469       7       4    28    0.571    0.714  0.929    10.00        20   \n",
       "5470       6      95   570   15.833    0.300  0.911     1.64       171   \n",
       "5471       7      41   287    5.857    0.213  0.801     1.36        61   \n",
       "5472       8       1     8    0.125    1.000  1.000     8.00         8   \n",
       "\n",
       "      blackand  wb_trans  classes  \n",
       "5468      1264        28        2  \n",
       "5469        26         2        1  \n",
       "5470       519       104        1  \n",
       "5471       230        45        1  \n",
       "5472         8         1        4  "
      ]
     },
     "execution_count": 3,
     "metadata": {},
     "output_type": "execute_result"
    }
   ],
   "source": [
    "df.tail()"
   ]
  },
  {
   "cell_type": "code",
   "execution_count": 4,
   "metadata": {},
   "outputs": [
    {
     "name": "stdout",
     "output_type": "stream",
     "text": [
      "<class 'pandas.core.frame.DataFrame'>\n",
      "RangeIndex: 5473 entries, 0 to 5472\n",
      "Data columns (total 11 columns):\n",
      "height      5473 non-null int64\n",
      "lenght      5473 non-null int64\n",
      "area        5473 non-null int64\n",
      "eccen       5473 non-null float64\n",
      "p_black     5473 non-null float64\n",
      "p_and       5473 non-null float64\n",
      "mean_tr     5473 non-null float64\n",
      "blackpix    5473 non-null int64\n",
      "blackand    5473 non-null int64\n",
      "wb_trans    5473 non-null int64\n",
      "classes     5473 non-null int64\n",
      "dtypes: float64(4), int64(7)\n",
      "memory usage: 470.4 KB\n"
     ]
    }
   ],
   "source": [
    "df.info()"
   ]
  },
  {
   "cell_type": "code",
   "execution_count": 5,
   "metadata": {},
   "outputs": [
    {
     "data": {
      "text/html": [
       "<div>\n",
       "<style scoped>\n",
       "    .dataframe tbody tr th:only-of-type {\n",
       "        vertical-align: middle;\n",
       "    }\n",
       "\n",
       "    .dataframe tbody tr th {\n",
       "        vertical-align: top;\n",
       "    }\n",
       "\n",
       "    .dataframe thead th {\n",
       "        text-align: right;\n",
       "    }\n",
       "</style>\n",
       "<table border=\"1\" class=\"dataframe\">\n",
       "  <thead>\n",
       "    <tr style=\"text-align: right;\">\n",
       "      <th></th>\n",
       "      <th>height</th>\n",
       "      <th>lenght</th>\n",
       "      <th>area</th>\n",
       "      <th>eccen</th>\n",
       "      <th>p_black</th>\n",
       "      <th>p_and</th>\n",
       "      <th>mean_tr</th>\n",
       "      <th>blackpix</th>\n",
       "      <th>blackand</th>\n",
       "      <th>wb_trans</th>\n",
       "      <th>classes</th>\n",
       "    </tr>\n",
       "  </thead>\n",
       "  <tbody>\n",
       "    <tr>\n",
       "      <th>count</th>\n",
       "      <td>5473.000000</td>\n",
       "      <td>5473.000000</td>\n",
       "      <td>5473.000000</td>\n",
       "      <td>5473.000000</td>\n",
       "      <td>5473.000000</td>\n",
       "      <td>5473.000000</td>\n",
       "      <td>5473.000000</td>\n",
       "      <td>5473.000000</td>\n",
       "      <td>5473.000000</td>\n",
       "      <td>5473.000000</td>\n",
       "      <td>5473.000000</td>\n",
       "    </tr>\n",
       "    <tr>\n",
       "      <th>mean</th>\n",
       "      <td>10.473232</td>\n",
       "      <td>89.568244</td>\n",
       "      <td>1198.405628</td>\n",
       "      <td>13.753977</td>\n",
       "      <td>0.368642</td>\n",
       "      <td>0.785053</td>\n",
       "      <td>6.219278</td>\n",
       "      <td>365.930751</td>\n",
       "      <td>741.108167</td>\n",
       "      <td>106.662891</td>\n",
       "      <td>1.202631</td>\n",
       "    </tr>\n",
       "    <tr>\n",
       "      <th>std</th>\n",
       "      <td>18.960564</td>\n",
       "      <td>114.721758</td>\n",
       "      <td>4849.376950</td>\n",
       "      <td>30.703737</td>\n",
       "      <td>0.177757</td>\n",
       "      <td>0.170661</td>\n",
       "      <td>69.079021</td>\n",
       "      <td>1270.333082</td>\n",
       "      <td>1881.504302</td>\n",
       "      <td>167.308362</td>\n",
       "      <td>0.721470</td>\n",
       "    </tr>\n",
       "    <tr>\n",
       "      <th>min</th>\n",
       "      <td>1.000000</td>\n",
       "      <td>1.000000</td>\n",
       "      <td>7.000000</td>\n",
       "      <td>0.007000</td>\n",
       "      <td>0.052000</td>\n",
       "      <td>0.062000</td>\n",
       "      <td>1.000000</td>\n",
       "      <td>7.000000</td>\n",
       "      <td>7.000000</td>\n",
       "      <td>1.000000</td>\n",
       "      <td>1.000000</td>\n",
       "    </tr>\n",
       "    <tr>\n",
       "      <th>25%</th>\n",
       "      <td>7.000000</td>\n",
       "      <td>17.000000</td>\n",
       "      <td>114.000000</td>\n",
       "      <td>2.143000</td>\n",
       "      <td>0.261000</td>\n",
       "      <td>0.679000</td>\n",
       "      <td>1.610000</td>\n",
       "      <td>42.000000</td>\n",
       "      <td>95.000000</td>\n",
       "      <td>17.000000</td>\n",
       "      <td>1.000000</td>\n",
       "    </tr>\n",
       "    <tr>\n",
       "      <th>50%</th>\n",
       "      <td>8.000000</td>\n",
       "      <td>41.000000</td>\n",
       "      <td>322.000000</td>\n",
       "      <td>5.167000</td>\n",
       "      <td>0.337000</td>\n",
       "      <td>0.803000</td>\n",
       "      <td>2.070000</td>\n",
       "      <td>108.000000</td>\n",
       "      <td>250.000000</td>\n",
       "      <td>49.000000</td>\n",
       "      <td>1.000000</td>\n",
       "    </tr>\n",
       "    <tr>\n",
       "      <th>75%</th>\n",
       "      <td>10.000000</td>\n",
       "      <td>107.000000</td>\n",
       "      <td>980.000000</td>\n",
       "      <td>13.625000</td>\n",
       "      <td>0.426000</td>\n",
       "      <td>0.927000</td>\n",
       "      <td>3.000000</td>\n",
       "      <td>284.000000</td>\n",
       "      <td>718.000000</td>\n",
       "      <td>126.000000</td>\n",
       "      <td>1.000000</td>\n",
       "    </tr>\n",
       "    <tr>\n",
       "      <th>max</th>\n",
       "      <td>804.000000</td>\n",
       "      <td>553.000000</td>\n",
       "      <td>143993.000000</td>\n",
       "      <td>537.000000</td>\n",
       "      <td>1.000000</td>\n",
       "      <td>1.000000</td>\n",
       "      <td>4955.000000</td>\n",
       "      <td>33017.000000</td>\n",
       "      <td>46133.000000</td>\n",
       "      <td>3212.000000</td>\n",
       "      <td>5.000000</td>\n",
       "    </tr>\n",
       "  </tbody>\n",
       "</table>\n",
       "</div>"
      ],
      "text/plain": [
       "            height       lenght           area        eccen      p_black  \\\n",
       "count  5473.000000  5473.000000    5473.000000  5473.000000  5473.000000   \n",
       "mean     10.473232    89.568244    1198.405628    13.753977     0.368642   \n",
       "std      18.960564   114.721758    4849.376950    30.703737     0.177757   \n",
       "min       1.000000     1.000000       7.000000     0.007000     0.052000   \n",
       "25%       7.000000    17.000000     114.000000     2.143000     0.261000   \n",
       "50%       8.000000    41.000000     322.000000     5.167000     0.337000   \n",
       "75%      10.000000   107.000000     980.000000    13.625000     0.426000   \n",
       "max     804.000000   553.000000  143993.000000   537.000000     1.000000   \n",
       "\n",
       "             p_and      mean_tr      blackpix      blackand     wb_trans  \\\n",
       "count  5473.000000  5473.000000   5473.000000   5473.000000  5473.000000   \n",
       "mean      0.785053     6.219278    365.930751    741.108167   106.662891   \n",
       "std       0.170661    69.079021   1270.333082   1881.504302   167.308362   \n",
       "min       0.062000     1.000000      7.000000      7.000000     1.000000   \n",
       "25%       0.679000     1.610000     42.000000     95.000000    17.000000   \n",
       "50%       0.803000     2.070000    108.000000    250.000000    49.000000   \n",
       "75%       0.927000     3.000000    284.000000    718.000000   126.000000   \n",
       "max       1.000000  4955.000000  33017.000000  46133.000000  3212.000000   \n",
       "\n",
       "           classes  \n",
       "count  5473.000000  \n",
       "mean      1.202631  \n",
       "std       0.721470  \n",
       "min       1.000000  \n",
       "25%       1.000000  \n",
       "50%       1.000000  \n",
       "75%       1.000000  \n",
       "max       5.000000  "
      ]
     },
     "execution_count": 5,
     "metadata": {},
     "output_type": "execute_result"
    }
   ],
   "source": [
    "df.describe()"
   ]
  },
  {
   "cell_type": "code",
   "execution_count": 6,
   "metadata": {},
   "outputs": [
    {
     "data": {
      "text/plain": [
       "height       104\n",
       "lenght       452\n",
       "area        1395\n",
       "eccen       1511\n",
       "p_black      711\n",
       "p_and        700\n",
       "mean_tr      851\n",
       "blackpix    1069\n",
       "blackand    1718\n",
       "wb_trans     581\n",
       "classes        5\n",
       "dtype: int64"
      ]
     },
     "execution_count": 6,
     "metadata": {},
     "output_type": "execute_result"
    }
   ],
   "source": [
    "df.nunique()"
   ]
  },
  {
   "cell_type": "markdown",
   "metadata": {},
   "source": [
    "# Vizualisation with Seaborn"
   ]
  },
  {
   "cell_type": "markdown",
   "metadata": {},
   "source": [
    "### Nombre d'occurrences par classe"
   ]
  },
  {
   "cell_type": "code",
   "execution_count": 7,
   "metadata": {},
   "outputs": [
    {
     "data": {
      "image/png": "[encoded data removed]",
      "text/plain": [
       "<Figure size 720x360 with 1 Axes>"
      ]
     },
     "metadata": {},
     "output_type": "display_data"
    }
   ],
   "source": [
    "part_classe = df['classes'].value_counts()\n",
    "plt.figure(figsize=(10,5))\n",
    "sns.barplot(part_classe.index, part_classe.values)\n",
    "plt.title('Nombre d\\'occurrences de chaque classe')\n",
    "plt.ylabel('Nombre d\\'occurrences', fontsize=12)\n",
    "plt.xlabel('Classe', fontsize=12)\n",
    "plt.show()"
   ]
  },
  {
   "cell_type": "markdown",
   "metadata": {},
   "source": [
    "On peut observer que la classse 1 (texte) est largement représenté dans le dataset par rapport aux autres classes."
   ]
  },
  {
   "cell_type": "code",
   "execution_count": 8,
   "metadata": {},
   "outputs": [
    {
     "name": "stdout",
     "output_type": "stream",
     "text": [
      "1    0.897680\n",
      "2    0.060113\n",
      "5    0.021012\n",
      "4    0.016079\n",
      "3    0.005116\n",
      "Name: classes, dtype: float64\n"
     ]
    }
   ],
   "source": [
    "# Pourcentage d'occurences par classes\n",
    "print(df['classes'].value_counts(','))"
   ]
  },
  {
   "cell_type": "markdown",
   "metadata": {},
   "source": [
    "On se rend compte que plus de 89% des observations du dataset sont de la catégorie 1.\n",
    "\n",
    "Pour que la prédiction d'un modèle soit significative, il faut alors que la précision du modèle soit supérieure à 89% (modèle intuitif où l'unique prédiction serait 1)."
   ]
  },
  {
   "cell_type": "markdown",
   "metadata": {},
   "source": [
    "### Matrice de corrélation"
   ]
  },
  {
   "cell_type": "code",
   "execution_count": 9,
   "metadata": {},
   "outputs": [
    {
     "data": {
      "image/png": "[encoded data removed]",
      "text/plain": [
       "<Figure size 864x864 with 2 Axes>"
      ]
     },
     "metadata": {},
     "output_type": "display_data"
    }
   ],
   "source": [
    "cor_matrix = df.corr().round(2)\n",
    "fig = plt.figure(figsize=(12,12));\n",
    "sns.heatmap(cor_matrix, annot=True, center=0, cmap = sns.diverging_palette(100, 10, as_cmap=True));\n",
    "plt.show()"
   ]
  },
  {
   "cell_type": "markdown",
   "metadata": {},
   "source": [
    "La matrice de corrélation ne nous indique aucune corrélation forte de feature avec les classes. Nous allons donc devoir nous appuyer sur des modèles de classification."
   ]
  },
  {
   "cell_type": "markdown",
   "metadata": {},
   "source": [
    "### Boites à moustaches"
   ]
  },
  {
   "cell_type": "code",
   "execution_count": 10,
   "metadata": {},
   "outputs": [
    {
     "data": {
      "text/plain": [
       "<matplotlib.axes._subplots.AxesSubplot at 0x20320cee9b0>"
      ]
     },
     "execution_count": 10,
     "metadata": {},
     "output_type": "execute_result"
    },
    {
     "data": {
      "image/png": "[encoded data removed]",
      "text/plain": [
       "<Figure size 432x288 with 1 Axes>"
      ]
     },
     "metadata": {},
     "output_type": "display_data"
    }
   ],
   "source": [
    "sns.boxplot(y=\"wb_trans\", x=\"classes\", data=df, palette=\"Set1\")"
   ]
  }
 ],
 "metadata": {
  "kernelspec": {
   "display_name": "Python 3",
   "language": "python",
   "name": "python3"
  },
  "language_info": {
   "codemirror_mode": {
    "name": "ipython",
    "version": 3
   },
   "file_extension": ".py",
   "mimetype": "text/x-python",
   "name": "python",
   "nbconvert_exporter": "python",
   "pygments_lexer": "ipython3",
   "version": "3.6.5"
  }
 },
 "nbformat": 4,
 "nbformat_minor": 2
}
