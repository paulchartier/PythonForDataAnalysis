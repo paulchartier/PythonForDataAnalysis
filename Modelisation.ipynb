{
 "cells": [
  {
   "cell_type": "markdown",
   "metadata": {},
   "source": [
    "# Librairies"
   ]
  },
  {
   "cell_type": "code",
   "execution_count": 1,
   "metadata": {
    "scrolled": true
   },
   "outputs": [
    {
     "name": "stderr",
     "output_type": "stream",
     "text": [
      "C:\\Users\\Paul\\Anaconda3\\lib\\site-packages\\sklearn\\cross_validation.py:41: DeprecationWarning: This module was deprecated in version 0.18 in favor of the model_selection module into which all the refactored classes and functions are moved. Also note that the interface of the new CV iterators are different from that of this module. This module will be removed in 0.20.\n",
      "  \"This module will be removed in 0.20.\", DeprecationWarning)\n",
      "C:\\Users\\Paul\\Anaconda3\\lib\\site-packages\\sklearn\\grid_search.py:42: DeprecationWarning: This module was deprecated in version 0.18 in favor of the model_selection module into which all the refactored classes and functions are moved. This module will be removed in 0.20.\n",
      "  DeprecationWarning)\n",
      "C:\\Users\\Paul\\Anaconda3\\lib\\site-packages\\sklearn\\ensemble\\weight_boosting.py:29: DeprecationWarning: numpy.core.umath_tests is an internal NumPy module and should not be imported. It will be removed in a future NumPy release.\n",
      "  from numpy.core.umath_tests import inner1d\n"
     ]
    }
   ],
   "source": [
    "import pandas as pd\n",
    "import seaborn as sns\n",
    "import matplotlib.pyplot as plt\n",
    "import numpy as np\n",
    "from sklearn import model_selection\n",
    "from sklearn.model_selection import train_test_split\n",
    "from sklearn.grid_search import GridSearchCV\n",
    "\n",
    "# algorithmes utilisés :\n",
    "from sklearn.linear_model import LogisticRegression\n",
    "from sklearn.neural_network import MLPClassifier \n",
    "from sklearn.naive_bayes import BernoulliNB, MultinomialNB\n",
    "from sklearn.ensemble import ExtraTreesClassifier\n",
    "from sklearn.ensemble import RandomForestClassifier\n",
    "from sklearn.neighbors import KNeighborsClassifier\n",
    "from sklearn.ensemble import GradientBoostingClassifier\n",
    "from sklearn.tree import DecisionTreeClassifier"
   ]
  },
  {
   "cell_type": "markdown",
   "metadata": {},
   "source": [
    "# Lecture du dataset"
   ]
  },
  {
   "cell_type": "code",
   "execution_count": 2,
   "metadata": {
    "scrolled": true
   },
   "outputs": [],
   "source": [
    "col = [\"height\",\"lenght\",\"area\",\"eccen\",\"p_black\",\"p_and\",\"mean_tr\",\"blackpix\",\"blackand\",\"wb_trans\",\"classes\"]\n",
    "df = pd.read_csv(\"page-blocks.csv\", sep=';',header=None, names=col,index_col=False)"
   ]
  },
  {
   "cell_type": "markdown",
   "metadata": {},
   "source": [
    "# Split du dataset"
   ]
  },
  {
   "cell_type": "markdown",
   "metadata": {},
   "source": [
    "Séparons de manière aléatoire le dataset en un train set et un test set (80% - 20%) qui nous permettront d'éviter l'overfitting."
   ]
  },
  {
   "cell_type": "code",
   "execution_count": 3,
   "metadata": {},
   "outputs": [
    {
     "name": "stdout",
     "output_type": "stream",
     "text": [
      "(4378, 10) (4378,)\n",
      "(1095, 10) (1095,)\n"
     ]
    }
   ],
   "source": [
    "x_train, x_test, y_train, y_test = train_test_split(df.loc[:, df.columns !=\"classes\"], df[\"classes\"], test_size=0.2, random_state = 7)\n",
    "print(x_train.shape, y_train.shape)\n",
    "print(x_test.shape, y_test.shape)"
   ]
  },
  {
   "cell_type": "markdown",
   "metadata": {},
   "source": [
    "# Modelisation"
   ]
  },
  {
   "cell_type": "markdown",
   "metadata": {},
   "source": [
    "Le contexte de notre modélisation est une classification avec 5 classes possibles (text, horizontal line, vertical line, graphic, picture). Pour trouver le modèle avec les meilleurs résultats, plusieurs modèles préseléctionnés vont être testés avec des paramètres non-optimisés puis ces modèles seront comparés."
   ]
  },
  {
   "cell_type": "markdown",
   "metadata": {},
   "source": [
    "### Comparaison des modèles"
   ]
  },
  {
   "cell_type": "code",
   "execution_count": 4,
   "metadata": {},
   "outputs": [],
   "source": [
    "models = []\n",
    "models.append(('LR', LogisticRegression()))\n",
    "models.append(('KNN', KNeighborsClassifier()))\n",
    "models.append(('CART', DecisionTreeClassifier()))\n",
    "models.append(('RF', RandomForestClassifier()))\n",
    "models.append(('ET', ExtraTreesClassifier()))\n",
    "models.append(('MNB', MultinomialNB()))\n",
    "models.append(('BNB', BernoulliNB()))\n",
    "models.append(('MLP', MLPClassifier()))\n",
    "models.append(('GB', GradientBoostingClassifier()))"
   ]
  },
  {
   "cell_type": "code",
   "execution_count": 5,
   "metadata": {},
   "outputs": [
    {
     "name": "stdout",
     "output_type": "stream",
     "text": [
      "LR: 0.956830 (0.007942)\n",
      "KNN: 0.955917 (0.009245)\n",
      "CART: 0.961398 (0.009281)\n",
      "RF: 0.971220 (0.007095)\n",
      "ET: 0.969164 (0.006316)\n",
      "MNB: 0.915714 (0.013100)\n",
      "BNB: 0.898816 (0.014135)\n",
      "MLP: 0.948841 (0.018987)\n",
      "GB: 0.972590 (0.004087)\n"
     ]
    }
   ],
   "source": [
    "results = []\n",
    "names = []\n",
    "results_mean =  []\n",
    "scoring = 'accuracy'\n",
    "seed = 7\n",
    "for name, model in models:\n",
    "    kfold = model_selection.KFold(n_splits=10, random_state=seed)\n",
    "    cv_results = model_selection.cross_val_score(model, x_train, y_train, cv=kfold, scoring=scoring)\n",
    "    results.append(cv_results)\n",
    "    names.append(name)\n",
    "    results_mean.append(cv_results.mean())\n",
    "    msg = \"%s: %f (%f)\" % (name, cv_results.mean(), cv_results.std())\n",
    "    print(msg)"
   ]
  },
  {
   "cell_type": "code",
   "execution_count": 6,
   "metadata": {},
   "outputs": [
    {
     "data": {
      "image/png": "[encoded data removed]",
      "text/plain": [
       "<Figure size 432x288 with 1 Axes>"
      ]
     },
     "metadata": {},
     "output_type": "display_data"
    }
   ],
   "source": [
    "# boxplot algorithm comparison\n",
    "fig = plt.figure()\n",
    "fig.suptitle('Algorithm Comparison')\n",
    "ax = fig.add_subplot(111)\n",
    "plt.boxplot(results)\n",
    "ax.set_xticklabels(names)\n",
    "plt.show()"
   ]
  },
  {
   "cell_type": "markdown",
   "metadata": {},
   "source": [
    "Nous pouvons voir grâce au graphique précédent que les modèles de Naive Bayes (Bernouilli et multinomial) ne font pas ou peu mieux que les 89% évoqués dans l'exploration des données. "
   ]
  },
  {
   "cell_type": "code",
   "execution_count": 7,
   "metadata": {},
   "outputs": [],
   "source": [
    "results_mean = pd.DataFrame(results_mean)\n",
    "results_mean['name'] = names\n",
    "results_mean.columns = ['score', 'name']\n",
    "results_mean=results_mean.sort_values('score', ascending=False)\n",
    "results_mean.drop(results_mean.tail(2).index,inplace=True)"
   ]
  },
  {
   "cell_type": "code",
   "execution_count": 8,
   "metadata": {},
   "outputs": [
    {
     "data": {
      "text/plain": [
       "(0.94, 1)"
      ]
     },
     "execution_count": 8,
     "metadata": {},
     "output_type": "execute_result"
    },
    {
     "data": {
      "image/png": "[encoded data removed]",
      "text/plain": [
       "<Figure size 432x288 with 1 Axes>"
      ]
     },
     "metadata": {},
     "output_type": "display_data"
    }
   ],
   "source": [
    "ax = results_mean.plot.bar(x='name', y='score', rot=0)\n",
    "ax.set_ylim(ymin=0.94,ymax=1)"
   ]
  },
  {
   "cell_type": "markdown",
   "metadata": {},
   "source": [
    "Nous remarquons que le modèle avec le meilleur score est le Gradient Boosting. Il faut maintenant trouver les meilleurs paramètres pour maximiser les prédictions correctes."
   ]
  },
  {
   "cell_type": "markdown",
   "metadata": {},
   "source": [
    "### Optimisation des hyperparamètres"
   ]
  },
  {
   "cell_type": "markdown",
   "metadata": {},
   "source": [
    "Tout d'abord, testons le modèle non-optimisé sur le jeu de test."
   ]
  },
  {
   "cell_type": "code",
   "execution_count": 9,
   "metadata": {},
   "outputs": [
    {
     "name": "stdout",
     "output_type": "stream",
     "text": [
      "Gradient Boosting accuracy : 0.9753424657534246\n"
     ]
    }
   ],
   "source": [
    "model_GB = GradientBoostingClassifier().fit(x_train, y_train)\n",
    "y_pred = model_GB.predict(x_test)\n",
    "from sklearn import metrics\n",
    "print(\"Gradient Boosting accuracy :\", metrics.accuracy_score(y_test, y_pred))"
   ]
  },
  {
   "cell_type": "code",
   "execution_count": 10,
   "metadata": {},
   "outputs": [
    {
     "data": {
      "text/plain": [
       "([mean: 0.97305, std: 0.00293, params: {'max_depth': 2},\n",
       "  mean: 0.97396, std: 0.00299, params: {'max_depth': 3},\n",
       "  mean: 0.97328, std: 0.00309, params: {'max_depth': 4},\n",
       "  mean: 0.97282, std: 0.00263, params: {'max_depth': 5},\n",
       "  mean: 0.97191, std: 0.00325, params: {'max_depth': 6},\n",
       "  mean: 0.97236, std: 0.00219, params: {'max_depth': 7}],\n",
       " {'max_depth': 3},\n",
       " 0.973963181385483)"
      ]
     },
     "execution_count": 10,
     "metadata": {},
     "output_type": "execute_result"
    }
   ],
   "source": [
    "depths = {'max_depth':[2,3,4,5,6,7] }\n",
    "tuning = GridSearchCV(estimator =GradientBoostingClassifier(learning_rate=0.01,n_estimators=1500, min_samples_split=2, min_samples_leaf=1, subsample=1,max_features='sqrt', random_state=10), \n",
    "            param_grid = depths, scoring='accuracy',n_jobs=4,iid=False, cv=5)\n",
    "tuning.fit(x_train,y_train)\n",
    "tuning.grid_scores_, tuning.best_params_, tuning.best_score_"
   ]
  },
  {
   "cell_type": "code",
   "execution_count": 11,
   "metadata": {},
   "outputs": [
    {
     "data": {
      "text/plain": [
       "([mean: 0.97396, std: 0.00299, params: {'min_samples_leaf': 1, 'min_samples_split': 2},\n",
       "  mean: 0.97374, std: 0.00320, params: {'min_samples_leaf': 1, 'min_samples_split': 4},\n",
       "  mean: 0.97396, std: 0.00315, params: {'min_samples_leaf': 1, 'min_samples_split': 6},\n",
       "  mean: 0.97351, std: 0.00281, params: {'min_samples_leaf': 1, 'min_samples_split': 8},\n",
       "  mean: 0.97351, std: 0.00299, params: {'min_samples_leaf': 1, 'min_samples_split': 10},\n",
       "  mean: 0.97328, std: 0.00283, params: {'min_samples_leaf': 1, 'min_samples_split': 20},\n",
       "  mean: 0.97328, std: 0.00254, params: {'min_samples_leaf': 1, 'min_samples_split': 40},\n",
       "  mean: 0.97305, std: 0.00341, params: {'min_samples_leaf': 1, 'min_samples_split': 60},\n",
       "  mean: 0.97282, std: 0.00316, params: {'min_samples_leaf': 1, 'min_samples_split': 100},\n",
       "  mean: 0.97351, std: 0.00251, params: {'min_samples_leaf': 3, 'min_samples_split': 2},\n",
       "  mean: 0.97351, std: 0.00251, params: {'min_samples_leaf': 3, 'min_samples_split': 4},\n",
       "  mean: 0.97351, std: 0.00251, params: {'min_samples_leaf': 3, 'min_samples_split': 6},\n",
       "  mean: 0.97373, std: 0.00258, params: {'min_samples_leaf': 3, 'min_samples_split': 8},\n",
       "  mean: 0.97328, std: 0.00232, params: {'min_samples_leaf': 3, 'min_samples_split': 10},\n",
       "  mean: 0.97351, std: 0.00261, params: {'min_samples_leaf': 3, 'min_samples_split': 20},\n",
       "  mean: 0.97305, std: 0.00243, params: {'min_samples_leaf': 3, 'min_samples_split': 40},\n",
       "  mean: 0.97259, std: 0.00202, params: {'min_samples_leaf': 3, 'min_samples_split': 60},\n",
       "  mean: 0.97282, std: 0.00315, params: {'min_samples_leaf': 3, 'min_samples_split': 100},\n",
       "  mean: 0.97328, std: 0.00183, params: {'min_samples_leaf': 5, 'min_samples_split': 2},\n",
       "  mean: 0.97328, std: 0.00183, params: {'min_samples_leaf': 5, 'min_samples_split': 4},\n",
       "  mean: 0.97328, std: 0.00183, params: {'min_samples_leaf': 5, 'min_samples_split': 6},\n",
       "  mean: 0.97328, std: 0.00183, params: {'min_samples_leaf': 5, 'min_samples_split': 8},\n",
       "  mean: 0.97328, std: 0.00183, params: {'min_samples_leaf': 5, 'min_samples_split': 10},\n",
       "  mean: 0.97328, std: 0.00283, params: {'min_samples_leaf': 5, 'min_samples_split': 20},\n",
       "  mean: 0.97282, std: 0.00230, params: {'min_samples_leaf': 5, 'min_samples_split': 40},\n",
       "  mean: 0.97305, std: 0.00183, params: {'min_samples_leaf': 5, 'min_samples_split': 60},\n",
       "  mean: 0.97282, std: 0.00194, params: {'min_samples_leaf': 5, 'min_samples_split': 100},\n",
       "  mean: 0.97305, std: 0.00263, params: {'min_samples_leaf': 7, 'min_samples_split': 2},\n",
       "  mean: 0.97305, std: 0.00263, params: {'min_samples_leaf': 7, 'min_samples_split': 4},\n",
       "  mean: 0.97305, std: 0.00263, params: {'min_samples_leaf': 7, 'min_samples_split': 6},\n",
       "  mean: 0.97305, std: 0.00263, params: {'min_samples_leaf': 7, 'min_samples_split': 8},\n",
       "  mean: 0.97305, std: 0.00263, params: {'min_samples_leaf': 7, 'min_samples_split': 10},\n",
       "  mean: 0.97351, std: 0.00261, params: {'min_samples_leaf': 7, 'min_samples_split': 20},\n",
       "  mean: 0.97305, std: 0.00232, params: {'min_samples_leaf': 7, 'min_samples_split': 40},\n",
       "  mean: 0.97351, std: 0.00271, params: {'min_samples_leaf': 7, 'min_samples_split': 60},\n",
       "  mean: 0.97282, std: 0.00299, params: {'min_samples_leaf': 7, 'min_samples_split': 100},\n",
       "  mean: 0.97282, std: 0.00230, params: {'min_samples_leaf': 9, 'min_samples_split': 2},\n",
       "  mean: 0.97282, std: 0.00230, params: {'min_samples_leaf': 9, 'min_samples_split': 4},\n",
       "  mean: 0.97282, std: 0.00230, params: {'min_samples_leaf': 9, 'min_samples_split': 6},\n",
       "  mean: 0.97282, std: 0.00230, params: {'min_samples_leaf': 9, 'min_samples_split': 8},\n",
       "  mean: 0.97282, std: 0.00230, params: {'min_samples_leaf': 9, 'min_samples_split': 10},\n",
       "  mean: 0.97328, std: 0.00232, params: {'min_samples_leaf': 9, 'min_samples_split': 20},\n",
       "  mean: 0.97351, std: 0.00241, params: {'min_samples_leaf': 9, 'min_samples_split': 40},\n",
       "  mean: 0.97351, std: 0.00307, params: {'min_samples_leaf': 9, 'min_samples_split': 60},\n",
       "  mean: 0.97351, std: 0.00347, params: {'min_samples_leaf': 9, 'min_samples_split': 100}],\n",
       " {'min_samples_leaf': 1, 'min_samples_split': 6},\n",
       " 0.9739637026430168)"
      ]
     },
     "execution_count": 11,
     "metadata": {},
     "output_type": "execute_result"
    }
   ],
   "source": [
    "samples_split_leaf = {'min_samples_split':[2,4,6,8,10,20,40,60,100], 'min_samples_leaf':[1,3,5,7,9]}\n",
    "\n",
    "tuning = GridSearchCV(estimator =GradientBoostingClassifier(learning_rate=0.01, n_estimators=1500,max_depth=3, subsample=1,max_features='sqrt', random_state=10), \n",
    "            param_grid = samples_split_leaf, scoring='accuracy',n_jobs=4,iid=False, cv=5)\n",
    "tuning.fit(x_train,y_train)\n",
    "tuning.grid_scores_, tuning.best_params_, tuning.best_score_"
   ]
  },
  {
   "cell_type": "code",
   "execution_count": 12,
   "metadata": {},
   "outputs": [
    {
     "data": {
      "text/plain": [
       "([mean: 0.97305, std: 0.00244, params: {'max_features': 2},\n",
       "  mean: 0.97396, std: 0.00315, params: {'max_features': 3},\n",
       "  mean: 0.97396, std: 0.00262, params: {'max_features': 4},\n",
       "  mean: 0.97282, std: 0.00375, params: {'max_features': 5},\n",
       "  mean: 0.97259, std: 0.00424, params: {'max_features': 6},\n",
       "  mean: 0.97237, std: 0.00346, params: {'max_features': 7}],\n",
       " {'max_features': 3},\n",
       " 0.9739637026430168)"
      ]
     },
     "execution_count": 12,
     "metadata": {},
     "output_type": "execute_result"
    }
   ],
   "source": [
    "max_features = {'max_features':[2,3,4,5,6,7]}\n",
    "tuning = GridSearchCV(estimator =GradientBoostingClassifier(learning_rate=0.01, n_estimators=1500,max_depth=3, min_samples_split=6, min_samples_leaf=1, subsample=1, random_state=10), \n",
    "param_grid = max_features, scoring='accuracy',n_jobs=4,iid=False, cv=5)\n",
    "tuning.fit(x_train,y_train)\n",
    "tuning.grid_scores_, tuning.best_params_, tuning.best_score_"
   ]
  },
  {
   "cell_type": "code",
   "execution_count": 13,
   "metadata": {},
   "outputs": [
    {
     "name": "stdout",
     "output_type": "stream",
     "text": [
      "Gradient Boosting accuracy : 0.9771689497716894\n"
     ]
    }
   ],
   "source": [
    "model_GB = GradientBoostingClassifier(learning_rate=0.01, n_estimators=1500,max_depth=3, min_samples_split=6, min_samples_leaf=1, subsample=1, random_state=10, max_features = 3).fit(x_train, y_train)\n",
    "y_pred = model_GB.predict(x_test)\n",
    "from sklearn import metrics\n",
    "print(\"Gradient Boosting accuracy :\", metrics.accuracy_score(y_test, y_pred))"
   ]
  },
  {
   "cell_type": "markdown",
   "metadata": {},
   "source": [
    "La précision des prédictions est de 97.7%, le modèle explique avec une bonne précision la classe d'un élément d'une page par rapport aux observation. Ce test étant fait sur un dataset sur lequel le modèle n'a pas été entraîné, cela signifie que l'algorithme ne fait pas de suraprentissage.\n",
    "\n",
    "L'optimistation des hyperparamètres a permis d'augmenter très légèrement la justesse des prédictions, de manière peu significative (97.3 % à 97.7 %)."
   ]
  }
 ],
 "metadata": {
  "kernelspec": {
   "display_name": "Python 3",
   "language": "python",
   "name": "python3"
  },
  "language_info": {
   "codemirror_mode": {
    "name": "ipython",
    "version": 3
   },
   "file_extension": ".py",
   "mimetype": "text/x-python",
   "name": "python",
   "nbconvert_exporter": "python",
   "pygments_lexer": "ipython3",
   "version": "3.6.5"
  }
 },
 "nbformat": 4,
 "nbformat_minor": 2
}
