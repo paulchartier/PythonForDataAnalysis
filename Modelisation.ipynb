{
 "cells": [
  {
   "cell_type": "markdown",
   "metadata": {},
   "source": [
    "# Librairies"
   ]
  },
  {
   "cell_type": "code",
   "execution_count": 1,
   "metadata": {
    "scrolled": true
   },
   "outputs": [
    {
     "name": "stderr",
     "output_type": "stream",
     "text": [
      "C:\\Users\\Paul\\Anaconda3\\lib\\site-packages\\sklearn\\ensemble\\weight_boosting.py:29: DeprecationWarning: numpy.core.umath_tests is an internal NumPy module and should not be imported. It will be removed in a future NumPy release.\n",
      "  from numpy.core.umath_tests import inner1d\n"
     ]
    }
   ],
   "source": [
    "import pandas as pd\n",
    "import seaborn as sns\n",
    "import matplotlib.pyplot as plt\n",
    "import numpy as np\n",
    "from sklearn import model_selection\n",
    "from sklearn.model_selection import train_test_split\n",
    "\n",
    "# algorithmes utilisés :\n",
    "from sklearn.linear_model import LogisticRegression\n",
    "from sklearn.neural_network import MLPClassifier \n",
    "from sklearn.naive_bayes import BernoulliNB, MultinomialNB\n",
    "from sklearn.ensemble import ExtraTreesClassifier\n",
    "from sklearn.ensemble import RandomForestClassifier\n",
    "from sklearn.neighbors import KNeighborsClassifier\n",
    "from sklearn.ensemble import GradientBoostingClassifier\n",
    "from sklearn.tree import DecisionTreeClassifier"
   ]
  },
  {
   "cell_type": "markdown",
   "metadata": {},
   "source": [
    "# Lecture du dataset"
   ]
  },
  {
   "cell_type": "code",
   "execution_count": 2,
   "metadata": {
    "scrolled": true
   },
   "outputs": [],
   "source": [
    "col = [\"height\",\"lenght\",\"area\",\"eccen\",\"p_black\",\"p_and\",\"mean_tr\",\"blackpix\",\"blackand\",\"wb_trans\",\"classes\"]\n",
    "df = pd.read_csv(\"page-blocks.csv\", sep=';',header=None, names=col,index_col=False)"
   ]
  },
  {
   "cell_type": "markdown",
   "metadata": {},
   "source": [
    "# Split du dataset"
   ]
  },
  {
   "cell_type": "markdown",
   "metadata": {},
   "source": [
    "Séparons de manière aléatoire le dataset en un train set et un test set (80% - 20%) qui nous permettront d'éviter l'overfitting."
   ]
  },
  {
   "cell_type": "code",
   "execution_count": 3,
   "metadata": {},
   "outputs": [
    {
     "name": "stdout",
     "output_type": "stream",
     "text": [
      "(4378, 11) (4378,)\n",
      "(1095, 11) (1095,)\n"
     ]
    }
   ],
   "source": [
    "x_train, x_test, y_train, y_test = train_test_split(df, df[\"classes\"], test_size=0.2, random_state = 7)\n",
    "print(x_train.shape, y_train.shape)\n",
    "print(x_test.shape, y_test.shape)"
   ]
  },
  {
   "cell_type": "code",
   "execution_count": 4,
   "metadata": {},
   "outputs": [
    {
     "data": {
      "text/html": [
       "<div>\n",
       "<style scoped>\n",
       "    .dataframe tbody tr th:only-of-type {\n",
       "        vertical-align: middle;\n",
       "    }\n",
       "\n",
       "    .dataframe tbody tr th {\n",
       "        vertical-align: top;\n",
       "    }\n",
       "\n",
       "    .dataframe thead th {\n",
       "        text-align: right;\n",
       "    }\n",
       "</style>\n",
       "<table border=\"1\" class=\"dataframe\">\n",
       "  <thead>\n",
       "    <tr style=\"text-align: right;\">\n",
       "      <th></th>\n",
       "      <th>height</th>\n",
       "      <th>lenght</th>\n",
       "      <th>area</th>\n",
       "      <th>eccen</th>\n",
       "      <th>p_black</th>\n",
       "      <th>p_and</th>\n",
       "      <th>mean_tr</th>\n",
       "      <th>blackpix</th>\n",
       "      <th>blackand</th>\n",
       "      <th>wb_trans</th>\n",
       "    </tr>\n",
       "    <tr>\n",
       "      <th>classes</th>\n",
       "      <th></th>\n",
       "      <th></th>\n",
       "      <th></th>\n",
       "      <th></th>\n",
       "      <th></th>\n",
       "      <th></th>\n",
       "      <th></th>\n",
       "      <th></th>\n",
       "      <th></th>\n",
       "      <th></th>\n",
       "    </tr>\n",
       "  </thead>\n",
       "  <tbody>\n",
       "    <tr>\n",
       "      <th>1</th>\n",
       "      <td>3935</td>\n",
       "      <td>3935</td>\n",
       "      <td>3935</td>\n",
       "      <td>3935</td>\n",
       "      <td>3935</td>\n",
       "      <td>3935</td>\n",
       "      <td>3935</td>\n",
       "      <td>3935</td>\n",
       "      <td>3935</td>\n",
       "      <td>3935</td>\n",
       "    </tr>\n",
       "    <tr>\n",
       "      <th>2</th>\n",
       "      <td>264</td>\n",
       "      <td>264</td>\n",
       "      <td>264</td>\n",
       "      <td>264</td>\n",
       "      <td>264</td>\n",
       "      <td>264</td>\n",
       "      <td>264</td>\n",
       "      <td>264</td>\n",
       "      <td>264</td>\n",
       "      <td>264</td>\n",
       "    </tr>\n",
       "    <tr>\n",
       "      <th>3</th>\n",
       "      <td>20</td>\n",
       "      <td>20</td>\n",
       "      <td>20</td>\n",
       "      <td>20</td>\n",
       "      <td>20</td>\n",
       "      <td>20</td>\n",
       "      <td>20</td>\n",
       "      <td>20</td>\n",
       "      <td>20</td>\n",
       "      <td>20</td>\n",
       "    </tr>\n",
       "    <tr>\n",
       "      <th>4</th>\n",
       "      <td>68</td>\n",
       "      <td>68</td>\n",
       "      <td>68</td>\n",
       "      <td>68</td>\n",
       "      <td>68</td>\n",
       "      <td>68</td>\n",
       "      <td>68</td>\n",
       "      <td>68</td>\n",
       "      <td>68</td>\n",
       "      <td>68</td>\n",
       "    </tr>\n",
       "    <tr>\n",
       "      <th>5</th>\n",
       "      <td>91</td>\n",
       "      <td>91</td>\n",
       "      <td>91</td>\n",
       "      <td>91</td>\n",
       "      <td>91</td>\n",
       "      <td>91</td>\n",
       "      <td>91</td>\n",
       "      <td>91</td>\n",
       "      <td>91</td>\n",
       "      <td>91</td>\n",
       "    </tr>\n",
       "  </tbody>\n",
       "</table>\n",
       "</div>"
      ],
      "text/plain": [
       "         height  lenght  area  eccen  p_black  p_and  mean_tr  blackpix  \\\n",
       "classes                                                                   \n",
       "1          3935    3935  3935   3935     3935   3935     3935      3935   \n",
       "2           264     264   264    264      264    264      264       264   \n",
       "3            20      20    20     20       20     20       20        20   \n",
       "4            68      68    68     68       68     68       68        68   \n",
       "5            91      91    91     91       91     91       91        91   \n",
       "\n",
       "         blackand  wb_trans  \n",
       "classes                      \n",
       "1            3935      3935  \n",
       "2             264       264  \n",
       "3              20        20  \n",
       "4              68        68  \n",
       "5              91        91  "
      ]
     },
     "execution_count": 4,
     "metadata": {},
     "output_type": "execute_result"
    }
   ],
   "source": [
    "x_train.groupby('classes').count()"
   ]
  },
  {
   "cell_type": "code",
   "execution_count": 5,
   "metadata": {},
   "outputs": [
    {
     "data": {
      "text/html": [
       "<div>\n",
       "<style scoped>\n",
       "    .dataframe tbody tr th:only-of-type {\n",
       "        vertical-align: middle;\n",
       "    }\n",
       "\n",
       "    .dataframe tbody tr th {\n",
       "        vertical-align: top;\n",
       "    }\n",
       "\n",
       "    .dataframe thead th {\n",
       "        text-align: right;\n",
       "    }\n",
       "</style>\n",
       "<table border=\"1\" class=\"dataframe\">\n",
       "  <thead>\n",
       "    <tr style=\"text-align: right;\">\n",
       "      <th></th>\n",
       "      <th>height</th>\n",
       "      <th>lenght</th>\n",
       "      <th>area</th>\n",
       "      <th>eccen</th>\n",
       "      <th>p_black</th>\n",
       "      <th>p_and</th>\n",
       "      <th>mean_tr</th>\n",
       "      <th>blackpix</th>\n",
       "      <th>blackand</th>\n",
       "      <th>wb_trans</th>\n",
       "    </tr>\n",
       "    <tr>\n",
       "      <th>classes</th>\n",
       "      <th></th>\n",
       "      <th></th>\n",
       "      <th></th>\n",
       "      <th></th>\n",
       "      <th></th>\n",
       "      <th></th>\n",
       "      <th></th>\n",
       "      <th></th>\n",
       "      <th></th>\n",
       "      <th></th>\n",
       "    </tr>\n",
       "  </thead>\n",
       "  <tbody>\n",
       "    <tr>\n",
       "      <th>1</th>\n",
       "      <td>978</td>\n",
       "      <td>978</td>\n",
       "      <td>978</td>\n",
       "      <td>978</td>\n",
       "      <td>978</td>\n",
       "      <td>978</td>\n",
       "      <td>978</td>\n",
       "      <td>978</td>\n",
       "      <td>978</td>\n",
       "      <td>978</td>\n",
       "    </tr>\n",
       "    <tr>\n",
       "      <th>2</th>\n",
       "      <td>65</td>\n",
       "      <td>65</td>\n",
       "      <td>65</td>\n",
       "      <td>65</td>\n",
       "      <td>65</td>\n",
       "      <td>65</td>\n",
       "      <td>65</td>\n",
       "      <td>65</td>\n",
       "      <td>65</td>\n",
       "      <td>65</td>\n",
       "    </tr>\n",
       "    <tr>\n",
       "      <th>3</th>\n",
       "      <td>8</td>\n",
       "      <td>8</td>\n",
       "      <td>8</td>\n",
       "      <td>8</td>\n",
       "      <td>8</td>\n",
       "      <td>8</td>\n",
       "      <td>8</td>\n",
       "      <td>8</td>\n",
       "      <td>8</td>\n",
       "      <td>8</td>\n",
       "    </tr>\n",
       "    <tr>\n",
       "      <th>4</th>\n",
       "      <td>20</td>\n",
       "      <td>20</td>\n",
       "      <td>20</td>\n",
       "      <td>20</td>\n",
       "      <td>20</td>\n",
       "      <td>20</td>\n",
       "      <td>20</td>\n",
       "      <td>20</td>\n",
       "      <td>20</td>\n",
       "      <td>20</td>\n",
       "    </tr>\n",
       "    <tr>\n",
       "      <th>5</th>\n",
       "      <td>24</td>\n",
       "      <td>24</td>\n",
       "      <td>24</td>\n",
       "      <td>24</td>\n",
       "      <td>24</td>\n",
       "      <td>24</td>\n",
       "      <td>24</td>\n",
       "      <td>24</td>\n",
       "      <td>24</td>\n",
       "      <td>24</td>\n",
       "    </tr>\n",
       "  </tbody>\n",
       "</table>\n",
       "</div>"
      ],
      "text/plain": [
       "         height  lenght  area  eccen  p_black  p_and  mean_tr  blackpix  \\\n",
       "classes                                                                   \n",
       "1           978     978   978    978      978    978      978       978   \n",
       "2            65      65    65     65       65     65       65        65   \n",
       "3             8       8     8      8        8      8        8         8   \n",
       "4            20      20    20     20       20     20       20        20   \n",
       "5            24      24    24     24       24     24       24        24   \n",
       "\n",
       "         blackand  wb_trans  \n",
       "classes                      \n",
       "1             978       978  \n",
       "2              65        65  \n",
       "3               8         8  \n",
       "4              20        20  \n",
       "5              24        24  "
      ]
     },
     "execution_count": 5,
     "metadata": {},
     "output_type": "execute_result"
    }
   ],
   "source": [
    "x_test.groupby('classes').count()"
   ]
  },
  {
   "cell_type": "markdown",
   "metadata": {},
   "source": [
    "# Modelisation"
   ]
  },
  {
   "cell_type": "markdown",
   "metadata": {},
   "source": [
    "Le contexte de notre modélisation est une classification avec 5 classes possibles (text, horizontal line, vertical line, graphic, picture). Pour trouver le modèle avec les meilleurs résultats, plusieurs modèles préseléctionnés vont être testés avec des paramètres non-optimisés puis ces modèles seront comparés."
   ]
  },
  {
   "cell_type": "markdown",
   "metadata": {},
   "source": [
    "### Comparaison des modèles"
   ]
  },
  {
   "cell_type": "code",
   "execution_count": 6,
   "metadata": {},
   "outputs": [],
   "source": [
    "models = []\n",
    "models.append(('LR', LogisticRegression()))\n",
    "models.append(('KNN', KNeighborsClassifier()))\n",
    "models.append(('CART', DecisionTreeClassifier()))\n",
    "models.append(('RF', RandomForestClassifier()))\n",
    "models.append(('ET', ExtraTreesClassifier()))\n",
    "models.append(('MNB', MultinomialNB()))\n",
    "models.append(('BNB', BernoulliNB()))\n",
    "models.append(('MLP', MLPClassifier()))\n",
    "models.append(('GB', GradientBoostingClassifier()))"
   ]
  },
  {
   "cell_type": "code",
   "execution_count": 7,
   "metadata": {},
   "outputs": [
    {
     "name": "stdout",
     "output_type": "stream",
     "text": [
      "LR: 0.984464 (0.007368)\n",
      "KNN: 0.957516 (0.009905)\n",
      "CART: 0.999772 (0.000685)\n",
      "RF: 0.997944 (0.002788)\n",
      "ET: 0.999543 (0.000914)\n",
      "MNB: 0.913431 (0.012933)\n",
      "BNB: 0.898816 (0.014135)\n",
      "MLP: 0.957968 (0.005546)\n",
      "GB: 0.999086 (0.001515)\n"
     ]
    }
   ],
   "source": [
    "results = []\n",
    "names = []\n",
    "results_mean =  []\n",
    "scoring = 'accuracy'\n",
    "seed = 7\n",
    "for name, model in models:\n",
    "    kfold = model_selection.KFold(n_splits=10, random_state=seed)\n",
    "    cv_results = model_selection.cross_val_score(model, x_train, y_train, cv=kfold, scoring=scoring)\n",
    "    results.append(cv_results)\n",
    "    names.append(name)\n",
    "    results_mean.append(cv_results.mean())\n",
    "    msg = \"%s: %f (%f)\" % (name, cv_results.mean(), cv_results.std())\n",
    "    print(msg)"
   ]
  },
  {
   "cell_type": "code",
   "execution_count": 8,
   "metadata": {},
   "outputs": [
    {
     "data": {
      "image/png": "[encoded data removed]",
      "text/plain": [
       "<Figure size 432x288 with 1 Axes>"
      ]
     },
     "metadata": {},
     "output_type": "display_data"
    }
   ],
   "source": [
    "# boxplot algorithm comparison\n",
    "fig = plt.figure()\n",
    "fig.suptitle('Algorithm Comparison')\n",
    "ax = fig.add_subplot(111)\n",
    "plt.boxplot(results)\n",
    "ax.set_xticklabels(names)\n",
    "plt.show()"
   ]
  },
  {
   "cell_type": "markdown",
   "metadata": {},
   "source": [
    "Nous pouvons voir grâce au graphique précédent que les modèles de Naive Bayes (Bernouilli et multinomial) ne font pas mieux que les 89% évoqués dans l'exploration des données. \n",
    "Nous pouvons aussi remarquer que les modèles Extra Tree, Gradient boosting et CART ont un score parfait, ce qui laissent planner le doute du sur-apprentissage."
   ]
  },
  {
   "cell_type": "code",
   "execution_count": 9,
   "metadata": {},
   "outputs": [],
   "source": [
    "results_mean = pd.DataFrame(results_mean)\n",
    "results_mean['name'] = names\n",
    "results_mean.columns = ['score', 'name']\n",
    "results_mean=results_mean.sort_values('score', ascending=False)\n",
    "results_mean.drop(results_mean.tail(2).index,inplace=True)"
   ]
  },
  {
   "cell_type": "code",
   "execution_count": 10,
   "metadata": {},
   "outputs": [
    {
     "data": {
      "text/plain": [
       "(0.94, 1)"
      ]
     },
     "execution_count": 10,
     "metadata": {},
     "output_type": "execute_result"
    },
    {
     "data": {
      "image/png": "[encoded data removed]",
      "text/plain": [
       "<Figure size 432x288 with 1 Axes>"
      ]
     },
     "metadata": {},
     "output_type": "display_data"
    }
   ],
   "source": [
    "ax = results_mean.plot.bar(x='name', y='score', rot=0)\n",
    "ax.set_ylim(ymin=0.94,ymax=1)"
   ]
  },
  {
   "cell_type": "markdown",
   "metadata": {},
   "source": [
    "Nous remarquons que les résultats sont excellents pour 1 modèle en particulier : CART. Pour réaliser les prédictions sur le jeu de test, nous allons choisir le modèle CART."
   ]
  },
  {
   "cell_type": "code",
   "execution_count": 12,
   "metadata": {},
   "outputs": [
    {
     "name": "stdout",
     "output_type": "stream",
     "text": [
      "CART accuracy : 1.0\n"
     ]
    }
   ],
   "source": [
    "models[2][1].fit(x_train, y_train)\n",
    "y_pred = models[2][1].predict(x_test)\n",
    "from sklearn import metrics\n",
    "print(models[2][0], \"accuracy :\", metrics.accuracy_score(y_test, y_pred))"
   ]
  },
  {
   "cell_type": "markdown",
   "metadata": {},
   "source": [
    "La précision des prédictions est de 100%, le modèle explique parfaitement la classe d'un élément d'une page par rapport aux observation. Ce test étant fait sur un dataset sur lequel le modèle n'a pas été entraîné, cela signifie que l'algorithme ne fait pas de suraprentissage.\n",
    "\n",
    "La sélection des features ainsi que l'optimistation des hyper-paramètres n'a pas été nécéssaire."
   ]
  }
 ],
 "metadata": {
  "kernelspec": {
   "display_name": "Python 3",
   "language": "python",
   "name": "python3"
  },
  "language_info": {
   "codemirror_mode": {
    "name": "ipython",
    "version": 3
   },
   "file_extension": ".py",
   "mimetype": "text/x-python",
   "name": "python",
   "nbconvert_exporter": "python",
   "pygments_lexer": "ipython3",
   "version": "3.6.5"
  }
 },
 "nbformat": 4,
 "nbformat_minor": 2
}
